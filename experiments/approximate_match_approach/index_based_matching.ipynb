{
 "cells": [
  {
   "cell_type": "code",
   "execution_count": 3,
   "metadata": {},
   "outputs": [],
   "source": [
    "#load data from csv\n",
    "import csv\n",
    "input_file_path = \"/Users/k.abhishek/Documents/customer_clusters/export_all_v2.csv\"\n",
    "def load_data(input_file_path):\n",
    "    with open(input_file_path, mode ='r') as file:\n",
    "        csvFile = csv.reader(file)\n",
    "        data = list(csvFile)\n",
    "    return data\n",
    "\n",
    "data = load_data(input_file_path)"
   ]
  },
  {
   "cell_type": "code",
   "execution_count": 4,
   "metadata": {},
   "outputs": [],
   "source": [
    "countries_in_focus = [\"IN\", \"CN\", \"US\"]\n",
    "# countries_in_focus = [\"IN\"]\n",
    "country_filter = set(countries_in_focus)\n",
    "\n",
    "#filtering based on country code\n",
    "# filtered_data = [ d for d in data if d[15] in country_filter]\n",
    "\n",
    "filtered_data = data.copy()\n",
    "import random \n",
    "random.seed(42)\n",
    "random.shuffle(filtered_data)"
   ]
  },
  {
   "cell_type": "code",
   "execution_count": 5,
   "metadata": {},
   "outputs": [
    {
     "data": {
      "text/plain": [
       "3610594"
      ]
     },
     "execution_count": 5,
     "metadata": {},
     "output_type": "execute_result"
    }
   ],
   "source": [
    "len(filtered_data)"
   ]
  },
  {
   "cell_type": "code",
   "execution_count": 6,
   "metadata": {},
   "outputs": [
    {
     "name": "stdout",
     "output_type": "stream",
     "text": [
      "2790777\n"
     ]
    }
   ],
   "source": [
    "#find the unique values of legal_cluster_id\n",
    "\n",
    "legal_cluster_id_set = set([d[1] for d in filtered_data])\n",
    "print(len(legal_cluster_id_set))\n",
    "\n",
    "legal_cluster_id_to_data = {}\n",
    "count_null_legal_cluster_id = 0\n",
    "for d in filtered_data:\n",
    "    if d[1] == \"null\":\n",
    "        count_null_legal_cluster_id +=1\n",
    "        continue\n",
    "    if legal_cluster_id_to_data.get(d[1]) is None:\n",
    "        legal_cluster_id_to_data[d[1]] = [d]\n",
    "    else:\n",
    "        legal_cluster_id_to_data[d[1]].append(d)    \n",
    "# filtered_data = []\n",
    "num_entries = 100000\n",
    "test_corpus = []\n",
    "comparison_corpus = []\n",
    "count_entries = 0\n",
    "for legal_cluster_id, entry in legal_cluster_id_to_data.items():\n",
    "    # if count_entries > num_entries:\n",
    "    #     break\n",
    "    if len(entry) > 1:\n",
    "        count_entries += len(entry)\n",
    "        test_corpus.append(entry[0])\n",
    "        comparison_corpus.extend(entry[1:])\n",
    "    else:\n",
    "        comparison_corpus.extend(entry)\n"
   ]
  },
  {
   "cell_type": "code",
   "execution_count": null,
   "metadata": {},
   "outputs": [],
   "source": []
  },
  {
   "cell_type": "code",
   "execution_count": 7,
   "metadata": {},
   "outputs": [],
   "source": [
    "country_wise_corpus = {}\n",
    "for entry in comparison_corpus:\n",
    "    country_code = entry[15]\n",
    "    if country_wise_corpus.get(country_code) is None:\n",
    "        country_wise_corpus[country_code] = [entry]\n",
    "    else:\n",
    "        country_wise_corpus[country_code].append(entry)"
   ]
  },
  {
   "cell_type": "code",
   "execution_count": 8,
   "metadata": {},
   "outputs": [
    {
     "name": "stdout",
     "output_type": "stream",
     "text": [
      "1.2266229894480962 1.0011390672114102\n"
     ]
    }
   ],
   "source": [
    "import numpy as np\n",
    "entries_per_legal_cluster_id = [len(v) for k,v in legal_cluster_id_to_data.items()]\n",
    "# entries_per_legal_cluster_id = [len(v) for k,v in legal_cluster_id_to_data.items() if len(v) > 1]\n",
    "mean = np.mean(entries_per_legal_cluster_id)\n",
    "std = np.std(entries_per_legal_cluster_id)\n",
    "print(mean, std)"
   ]
  },
  {
   "cell_type": "code",
   "execution_count": 9,
   "metadata": {},
   "outputs": [
    {
     "data": {
      "text/plain": [
       "3423230"
      ]
     },
     "execution_count": 9,
     "metadata": {},
     "output_type": "execute_result"
    }
   ],
   "source": [
    "sum(entries_per_legal_cluster_id)"
   ]
  },
  {
   "cell_type": "markdown",
   "metadata": {},
   "source": [
    "mean and standard deviation for the size of legal_cluster_id\n",
    "1.5947940644465912 2.2155833789806207\n",
    "\n",
    "mean and standard deviation for the size of legal_cluster_id after filtering the size of cluster to be > 1\n",
    "5.20206364596017 4.4183111370491055"
   ]
  },
  {
   "cell_type": "code",
   "execution_count": null,
   "metadata": {},
   "outputs": [],
   "source": []
  },
  {
   "cell_type": "code",
   "execution_count": 10,
   "metadata": {},
   "outputs": [
    {
     "data": {
      "text/plain": [
       "187364"
      ]
     },
     "execution_count": 10,
     "metadata": {},
     "output_type": "execute_result"
    }
   ],
   "source": [
    "count_null_legal_cluster_id"
   ]
  },
  {
   "cell_type": "code",
   "execution_count": 11,
   "metadata": {},
   "outputs": [
    {
     "name": "stdout",
     "output_type": "stream",
     "text": [
      "3610594\n",
      "395029\n",
      "3028201\n"
     ]
    }
   ],
   "source": [
    "print(len(filtered_data))\n",
    "print(len(test_corpus))\n",
    "print(len(comparison_corpus))"
   ]
  },
  {
   "cell_type": "code",
   "execution_count": 12,
   "metadata": {},
   "outputs": [],
   "source": [
    "def extract_tax_numbers(arr):\n",
    "    unique_tax_numbers = set()\n",
    "    for i in range(27, 33):\n",
    "        if arr[i] and arr[i] != \"null\":\n",
    "            unique_tax_numbers.add(arr[i].lower())\n",
    "    return unique_tax_numbers\n",
    "\n",
    "def extract_bvd_numbers(arr):\n",
    "    unique_bvd_numbers = set()\n",
    "    for i in range(24, 27):\n",
    "        if arr[i] and arr[i] != \"null\":\n",
    "            unique_bvd_numbers.add(arr[i].lower())\n",
    "    return unique_bvd_numbers\n",
    "\n",
    "def match_tax(arr, unique_tax_numbers):\n",
    "    tax = extract_tax_numbers(arr)\n",
    "    for tax_num in tax:\n",
    "        if tax_num in unique_tax_numbers:\n",
    "            return unique_tax_numbers[tax_num]\n",
    "    return None\n",
    "\n",
    "def match_bvd(arr, unique_bvd_numbers):\n",
    "    bvd = extract_bvd_numbers(arr)\n",
    "    for bvd_num in bvd:\n",
    "        if bvd_num in unique_bvd_numbers:\n",
    "            return unique_bvd_numbers[bvd_num]\n",
    "    return None"
   ]
  },
  {
   "cell_type": "code",
   "execution_count": null,
   "metadata": {},
   "outputs": [],
   "source": []
  },
  {
   "cell_type": "code",
   "execution_count": 13,
   "metadata": {},
   "outputs": [],
   "source": [
    "unique_tax_numbers = {}\n",
    "unique_bvd_numbers = {}\n",
    "for idx, arr in enumerate(comparison_corpus):\n",
    "    country_code = arr[15]\n",
    "    for i in range(24, 27):\n",
    "        if arr[i] and arr[i] != \"null\":\n",
    "            if unique_bvd_numbers.get(arr[i].lower()):\n",
    "                unique_bvd_numbers[arr[i].lower()].append(arr)\n",
    "            else:\n",
    "                unique_bvd_numbers[arr[i].lower()] = [arr]\n",
    "            # unique_bvd_numbers[arr[i]] = arr\n",
    "    for i in range(27, 33):\n",
    "        if arr[i] and arr[i] != \"null\":\n",
    "            if unique_tax_numbers.get(arr[i].lower()):\n",
    "                unique_tax_numbers[arr[i].lower()].append(arr)\n",
    "            else:\n",
    "                unique_tax_numbers[arr[i].lower()] = [arr]\n",
    "            # unique_tax_numbers[arr[i]] = arr\n"
   ]
  },
  {
   "cell_type": "code",
   "execution_count": 33,
   "metadata": {},
   "outputs": [],
   "source": [
    "import re\n",
    "import numpy as np\n",
    "from rapidfuzz import fuzz\n",
    "from annoy import AnnoyIndex\n",
    "\n",
    "import re\n",
    "stop_words = {'llp', 'ltd', 'llc', 'plc', 'inc', 'corp', 'nv', 'group', 'gmbh', 'company', 'corporation', 'limited', 'international', 'import', 'export', 'trading', 'contracting', 'investment', 'co', 'trader', 'traders', 'electronics', 'general', 'decorations', 'industries', 'textile'}\n",
    "delimiters = {\".\", \",\", \"-\", \"_\", \"'\", \"&\", \"/\", \"\\\\\", \":\", \";\", \"(\", \")\", \"[\", \"]\", \"{\", \"}\", \" \"}\n",
    "def split_company_name(name):\n",
    "    pattern = '|'.join(map(re.escape, delimiters))\n",
    "    words = re.split(pattern, name)\n",
    "    return [word for word in words if word]\n",
    "\n",
    "def lowercase_company_name(name):\n",
    "    return name.lower()\n",
    "\n",
    "# List of common delimiters\n",
    "def remove_stop_words(words):\n",
    "    # return \" \".join(words)\n",
    "    words = [word for word in words if word not in stop_words]\n",
    "    return \" \".join(words)\n",
    "\n",
    "def preprocess_name_2(trading_name):\n",
    "    # Lowercase the company name\n",
    "    trading_name = lowercase_company_name(trading_name)\n",
    "    # Split the company name into words\n",
    "    words = split_company_name(trading_name)\n",
    "\n",
    "    # Remove stop words\n",
    "    clean_name = remove_stop_words(words)\n",
    "    return clean_name\n",
    "\n",
    "# Preprocessing function\n",
    "def preprocess_name_1(name):\n",
    "    name = name.lower()\n",
    "    name = re.sub(r'[^\\w\\s]', '', name)  # Remove punctuation\n",
    "    tokens = name.split()\n",
    "    tokens.sort()  # Sort tokens for token_sort_ratio\n",
    "    return ' '.join(tokens)\n",
    "\n",
    "preprocess_name = preprocess_name_2"
   ]
  },
  {
   "cell_type": "code",
   "execution_count": 34,
   "metadata": {},
   "outputs": [],
   "source": [
    "\n",
    "def name_to_vector(name, embedding_dim=128):\n",
    "    vector = np.zeros(embedding_dim)\n",
    "    tokens = name.split()\n",
    "    for token in tokens:\n",
    "        for char in token:\n",
    "            vector[ord(char) % embedding_dim] += 1  \n",
    "    return vector\n",
    "\n",
    "def build_index(corpus, embedding_dim=128, metric='angular', num_trees=25):\n",
    "    # Preprocess the entire corpus\n",
    "    # corpus_of_names = [\"John Doe\", \"Jane Smith\", \"Alice Johnson\"]  # Add all million names here\n",
    "    corpus_of_names = [d[4] for d in corpus]\n",
    "    preprocessed_names = [preprocess_name(name) for name in corpus_of_names]\n",
    "\n",
    "    annoy_index = AnnoyIndex(embedding_dim, metric)\n",
    "    # Convert names to vectors (simple bag-of-words vectorization)\n",
    "\n",
    "\n",
    "    name_vectors = [name_to_vector(name, embedding_dim) for name in preprocessed_names]\n",
    "\n",
    "    for i, vector in enumerate(name_vectors):\n",
    "        # print(i, vector)\n",
    "        annoy_index.add_item(i, vector)\n",
    "\n",
    "    annoy_index.build(num_trees) # 50 trees\n",
    "    return annoy_index, corpus_of_names, preprocessed_names\n"
   ]
  },
  {
   "cell_type": "code",
   "execution_count": 35,
   "metadata": {},
   "outputs": [],
   "source": [
    "# # Preprocess the entire corpus\n",
    "# # corpus_of_names = [\"John Doe\", \"Jane Smith\", \"Alice Johnson\"]  # Add all million names here\n",
    "# corpus_of_names = [d[4] for d in comparison_corpus]\n",
    "# preprocessed_names = [preprocess_name(name) for name in corpus_of_names]\n",
    "\n",
    "# # Build Annoy index\n",
    "# embedding_dim = 128  # Dimensionality of the embeddings\n",
    "# annoy_index = AnnoyIndex(embedding_dim, 'angular')\n",
    "\n",
    "# # Convert names to vectors (simple bag-of-words vectorization)\n",
    "# def name_to_vector(name):\n",
    "#     vector = np.zeros(embedding_dim)\n",
    "#     tokens = name.split()\n",
    "#     for token in tokens:\n",
    "#         for char in token:\n",
    "#             vector[ord(char) % embedding_dim] += 1  \n",
    "#     return vector\n",
    "\n",
    "# name_vectors = [name_to_vector(name) for name in preprocessed_names]\n",
    "\n",
    "# for i, vector in enumerate(name_vectors):\n",
    "#     # print(i, vector)\n",
    "#     annoy_index.add_item(i, vector)\n",
    "\n",
    "# annoy_index.build(50) # 50 trees"
   ]
  },
  {
   "cell_type": "code",
   "execution_count": 36,
   "metadata": {},
   "outputs": [],
   "source": [
    "# Fuzzy matching score function\n",
    "function_selection = {\n",
    "    \"ratio\": 1,\n",
    "    \"partial_ratio\": 0,\n",
    "    \"token_sort_ratio\": 1,\n",
    "    \"token_set_ratio\": 0,\n",
    "    \"partial_token_sort_ratio\": 0,\n",
    "    \"partial_token_set_ratio\": 0\n",
    "}\n",
    "def combined_fuzzy_score(name1, name2):\n",
    "    ratio = fuzz.ratio(name1, name2) * function_selection[\"ratio\"]\n",
    "    partial_ratio = fuzz.partial_ratio(name1, name2) * function_selection[\"partial_ratio\"]\n",
    "    token_sort_ratio = fuzz.token_sort_ratio(name1, name2)  * function_selection[\"token_sort_ratio\"]\n",
    "    token_set_ratio = fuzz.token_set_ratio(name1, name2)    * function_selection[\"token_set_ratio\"]\n",
    "    partial_token_sort_ratio = fuzz.partial_token_sort_ratio(name1, name2) * function_selection[\"partial_token_sort_ratio\"]\n",
    "    partial_token_set_ratio = fuzz.partial_token_set_ratio(name1, name2) * function_selection[\"partial_token_set_ratio\"]\n",
    "    # print(f\"ratio: {ratio}, partial_ratio: {partial_ratio}, token_sort_ratio: {token_sort_ratio}, token_set_ratio: {token_set_ratio}, partial_token_sort_ratio: {partial_token_sort_ratio}, partial_token_set_ratio: {partial_token_set_ratio}\")\n",
    "    # print(f\"Ratios: {ratio}, {partial_ratio}, {token_sort_ratio}, {token_set_ratio}, {partial_token_sort_ratio}, {partial_token_set_ratio}\")\n",
    "    return sum([ratio, partial_ratio, token_sort_ratio, token_set_ratio, partial_token_sort_ratio, partial_token_set_ratio])/sum(function_selection.values())\n",
    "    # return max(ratio, partial_ratio, token_sort_ratio, token_set_ratio, partial_token_sort_ratio, partial_token_set_ratio)"
   ]
  },
  {
   "cell_type": "code",
   "execution_count": 37,
   "metadata": {},
   "outputs": [],
   "source": [
    "embedding_dim = 128\n",
    "num_trees = 25\n",
    "index_name_vector_clustered_by_country = {}\n",
    "preprocessed_names_by_country = {}\n",
    "corpus_of_names_by_country = {}\n",
    "for country_code, corpus in country_wise_corpus.items():\n",
    "    index_name_vector_clustered_by_country[country_code], corpus_of_names_by_country[country_code], preprocessed_names_by_country[country_code] = build_index(corpus, num_trees=num_trees)"
   ]
  },
  {
   "cell_type": "code",
   "execution_count": 38,
   "metadata": {},
   "outputs": [],
   "source": [
    "# Function to find best match\n",
    "def find_best_match(input_name, country_code, annoy_index, embedding_dim = 128, num_candidates=15):\n",
    "    preprocessed_input = preprocess_name(input_name)\n",
    "    input_vector = name_to_vector(preprocessed_input, embedding_dim)\n",
    "    # Retrieve nearest neighbors using Annoy\n",
    "    nearest_neighbors = annoy_index.get_nns_by_vector(input_vector, num_candidates, include_distances=False)\n",
    "    # print(nearest_neighbors)\n",
    "    best_match_score = 0\n",
    "    best_match_name = None\n",
    "    best_match_idx = None\n",
    "    preprocessed_names = preprocessed_names_by_country[country_code]\n",
    "    corpus_of_names = corpus_of_names_by_country[country_code]\n",
    "    for neighbor_idx in nearest_neighbors:\n",
    "        candidate = preprocessed_names[neighbor_idx]\n",
    "        score = combined_fuzzy_score(preprocessed_input, candidate)\n",
    "        if score > best_match_score:\n",
    "            best_match_score = score\n",
    "            best_match_name = corpus_of_names[neighbor_idx]\n",
    "            best_match_idx = neighbor_idx\n",
    "    \n",
    "    return best_match_name, best_match_score, best_match_idx\n"
   ]
  },
  {
   "cell_type": "code",
   "execution_count": 39,
   "metadata": {},
   "outputs": [
    {
     "name": "stderr",
     "output_type": "stream",
     "text": [
      "  1%|▏         | 5842/395029 [00:02<02:48, 2310.19it/s]"
     ]
    },
    {
     "name": "stdout",
     "output_type": "stream",
     "text": [
      "['008e8f8a-95a1-3028-aacd-bd50cff51a83', '589e2c13-205b-38fd-b62b-178929e2690c', 'EG00319745', 'Customer', 'GENERAL TRADING', 'null', 'OCTOBER', 'null', '6', 'null', 'null', 'AL QAHIRA', '11511', 'null', 'null', 'EG', 'Egypt', 'TEL', 'EG', '20', 'null', '34873154', '2017-10-31T11:44:32.289Z', 'null', 'null', 'null', 'null', 'null', 'null', 'null', 'null', 'null', 'null']\n"
     ]
    },
    {
     "name": "stderr",
     "output_type": "stream",
     "text": [
      "  2%|▏         | 8290/395029 [00:03<02:42, 2376.31it/s]"
     ]
    },
    {
     "name": "stdout",
     "output_type": "stream",
     "text": [
      "['2decc138-1155-3783-a9e3-245dc7d1ecff', 'c4b63023-8d57-3772-9eb1-29a42a179670', 'CN01435237', 'Customer', 'INTERNATIONAL LTD', 'null', 'LTD 3/F PERFECT IND BLDG 31', 'null', 'TAI YAU STREET SANPOKONG KLN', 'null', 'null', 'HANGZHOU', '310000', 'ZJ', 'ZHEJIANG', 'CN', 'CHINA', 'null', 'null', 'null', 'null', 'null', '2020-06-20T08:26:04.970Z', 'null', 'null', 'null', 'null', 'null', 'null', 'null', 'null', 'null', 'null']\n"
     ]
    },
    {
     "name": "stderr",
     "output_type": "stream",
     "text": [
      "  3%|▎         | 10326/395029 [00:04<02:34, 2490.54it/s]"
     ]
    },
    {
     "name": "stdout",
     "output_type": "stream",
     "text": [
      "['65abfd20-582a-3776-be8e-8696a6f7e1b8', 'a2a93c13-f965-3853-be9c-a90a17e2dbd7', 'CN00350077', 'Customer', 'IMPORT EXPORT CO LTD', '1', 'GE HUANG RD', 'null', 'LUO HU DIST PRECEDEDDING INDU', 'null', 'null', 'SHENZHEN', '518000', 'GD', 'Guangdong', 'CN', 'China', 'TEL', 'CN', '86', 'null', '75582416883', '2016-08-28T20:01:17.504Z', 'null', 'null', 'null', 'null', 'null', 'null', 'null', 'null', 'null', 'null']\n"
     ]
    },
    {
     "name": "stderr",
     "output_type": "stream",
     "text": [
      "  4%|▍         | 16931/395029 [00:07<02:43, 2315.61it/s]"
     ]
    },
    {
     "name": "stdout",
     "output_type": "stream",
     "text": [
      "['f3fa48d1-efed-3f66-b909-21a48f880072', 'd9885f29-eca0-3169-b122-ea81f62cef38', 'HK00145244', 'Customer', 'INTERNATIONAL TRADING CO', '27-33', 'NATHAN RD', 'null', '9B ALPHA HOUSE TSIMSHATSUI', 'TSIM SHA TSUI', 'null', 'HONG KONG', 'null', 'null', 'null', 'HK', 'Hong Kong China', 'TEL', 'HK', '852', 'null', '27245110', '2016-08-28T20:02:09.536Z', 'null', 'null', 'null', 'null', 'null', 'null', 'null', 'null', 'null', 'null']\n"
     ]
    },
    {
     "name": "stderr",
     "output_type": "stream",
     "text": [
      "  6%|▋         | 24920/395029 [00:11<02:40, 2312.87it/s]"
     ]
    },
    {
     "name": "stdout",
     "output_type": "stream",
     "text": [
      "['fe455281-ac83-38a3-a763-dcb5b5ead956', 'aeebe3c5-77bc-34b2-b8ee-08ad86947628', 'US02630436', 'Customer', 'INTERNATIONAL EXPORT, INC', '18001', 'S FIGUEROA ST', 'null', 'B', 'null', 'null', 'GARDENA', '90248-4258', 'CA', 'CALIFORNIA', 'US', 'UNITED STATES', 'TEL', 'US', '1', 'null', '5628245791', '2019-03-13T09:34:07.981Z', 'US02630436', 'US123093173L', 'null', 'null', 'null', 'null', 'null', 'null', 'null', 'null']\n"
     ]
    },
    {
     "name": "stderr",
     "output_type": "stream",
     "text": [
      "  9%|▉         | 35282/395029 [00:15<02:15, 2646.28it/s]"
     ]
    },
    {
     "name": "stdout",
     "output_type": "stream",
     "text": [
      "['79a087e8-fda4-30ca-bc7a-8cfc5adcc548', '4e046691-bc87-3915-9bd3-2f83e435d997', 'RU00173032', 'Customer', 'EXPORT-IMPORT LTD', 'H 5', 'FEDERATIVNY PROSPECT', 'null', 'BLDG 1', 'null', 'null', 'MOSCOW', '111399', 'null', 'null', 'RU', 'Russia', 'TEL', 'RU', '7', 'null', '4955105310', '2016-06-05T17:18:55.904Z', 'RU00173032', 'null', 'null', 'null', '7720290659', 'null', 'null', 'null', 'null', 'null']\n"
     ]
    },
    {
     "name": "stderr",
     "output_type": "stream",
     "text": [
      " 12%|█▏        | 47354/395029 [00:20<02:24, 2405.83it/s]"
     ]
    },
    {
     "name": "stdout",
     "output_type": "stream",
     "text": [
      "['c4bc01eb-6d42-30dc-8cb5-1df75f157123', '4455df92-b6dd-3e76-b2bf-65edf1a154a5', 'FR00645810', 'Customer', 'EXPORT IMPORT INTERNATIONAL', '280', 'RUE DES PAULIERS', 'null', 'null', 'null', 'null', 'BASSEVELLE', '77750', '77', 'SEINE-ET-MARNE', 'FR', 'FRANCE', 'MOB', 'FR', '33', 'null', '762742218', '2023-08-19T03:17:45.677Z', 'FR00645810', 'null', 'null', 'null', 'null', 'null', 'null', 'null', 'null', 'FR42951842483']\n"
     ]
    },
    {
     "name": "stderr",
     "output_type": "stream",
     "text": [
      " 13%|█▎        | 52538/395029 [00:21<02:01, 2825.82it/s]"
     ]
    },
    {
     "name": "stdout",
     "output_type": "stream",
     "text": [
      "['8db5b00b-a600-31f1-890f-c6698a5bc5ee', '11ba5768-81d8-3512-ad45-774a1de8246f', 'KR00756458', 'Customer', 'INTERNATIONAL TRADING COMPANY', '776', 'DONGTANGIHEUNG-RO', 'null', '5FL, A-DONG,', 'null', 'null', 'YONGIN', '17101', 'null', 'null', 'KR', 'KOREA, SOUTH', 'TEL', 'KR', '82', 'null', '24387600', '2017-06-12T12:48:10.211Z', 'null', 'null', 'null', 'null', 'null', 'null', 'null', 'null', 'null', 'null']\n"
     ]
    },
    {
     "name": "stderr",
     "output_type": "stream",
     "text": [
      " 14%|█▍        | 55363/395029 [00:22<02:01, 2804.69it/s]"
     ]
    },
    {
     "name": "stdout",
     "output_type": "stream",
     "text": [
      "['ad32a975-4d06-3c05-8ecc-bfc049f4f0db', 'a7f0a7d7-512b-3593-9f85-5fcba8e724b0', 'AE00221670', 'Customer', 'GENERAL TRADING LLC', 'null', 'RIGA ROAD AL ZAROONI BUILDING RI', '81630', '3RD FLR AL ZAROONI BUILDING RIA R', 'null', 'null', 'DUBAI', 'null', 'null', 'null', 'AE', 'United Arab Emirates', 'TEL', 'AE', '971', 'null', '42688306', '2016-07-10T19:39:00.079Z', 'null', 'null', 'null', 'null', 'null', 'null', 'null', 'null', 'null', 'null']\n"
     ]
    },
    {
     "name": "stderr",
     "output_type": "stream",
     "text": [
      " 15%|█▍        | 57677/395029 [00:23<02:03, 2724.26it/s]"
     ]
    },
    {
     "name": "stdout",
     "output_type": "stream",
     "text": [
      "['7e7e8037-90f4-3c6b-87f2-d341014b3cde', '02181fc9-9daf-3fb6-81f4-fdd20fbb72af', 'US00752165', 'Customer', 'INTERNATIONAL TRADERS INC', '800', 'TIFFANY BLVD', 'null', 'STE 302', 'null', 'null', 'ROCKY MOUNT', '27804-1946', 'NC', 'North Carolina', 'US', 'United States', 'TEL', 'DO', '1', 'null', '2524507524', '2016-06-05T17:20:14.096Z', 'null', 'null', 'null', 'null', 'null', 'null', 'null', 'null', 'null', 'null']\n"
     ]
    },
    {
     "name": "stderr",
     "output_type": "stream",
     "text": [
      " 15%|█▍        | 58538/395029 [00:24<01:59, 2816.81it/s]"
     ]
    },
    {
     "name": "stdout",
     "output_type": "stream",
     "text": [
      "['e48b2cde-1ba2-39b5-b94d-0457dd58a10c', 'a6c810bc-9014-3d1f-8220-c57af2ddf658', 'US01421059', 'Customer', 'INTERNATIONAL TRADING', '103', 'CARNEGIE CTR', 'null', 'STE 218', 'null', 'null', 'PRINCETON', '08540-6235', 'NJ', 'New Jersey', 'US', 'United States', 'TEL', 'TT', '1', 'null', '2128189400', '2016-06-05T17:20:26.875Z', 'null', 'null', 'null', 'null', 'null', 'null', 'null', 'null', 'null', 'null']\n"
     ]
    },
    {
     "name": "stderr",
     "output_type": "stream",
     "text": [
      " 16%|█▋        | 64781/395029 [00:26<01:47, 3065.26it/s]"
     ]
    },
    {
     "name": "stdout",
     "output_type": "stream",
     "text": [
      "['3e815850-53c3-34a4-9709-159877c65bf5', '792eaae1-b758-3775-9b7d-cfd0611421a4', 'JP48706219', 'Customer', 'GENERAL CORPORATION', '2', '2-19-9 TAITO', 'null', 'TAITO-KU', 'null', 'null', 'TAITO-KU', '111-0054', '13', 'Tokyo', 'JP', 'Japan', 'TEL', 'JP', '81', 'null', '338332135', '2020-06-20T08:26:54.328Z', 'null', 'null', 'null', 'null', 'null', 'null', 'null', 'null', 'null', 'null']\n",
      "['c330c792-29bf-3c51-9931-542003abcc41', 'f41ba3d6-8435-3dcb-b5e5-01454c30a1bb', 'RU00186779', 'Customer', 'LIMITED COMPANY', '9', 'STRELNIKOVA STR 9,', 'null', 'null', 'null', 'null', 'VLADIVOSTOK', 'null', 'null', 'null', 'RU', 'Russia', 'TEL', 'KZ', '7', 'null', '9147077761', '2016-06-05T17:18:57.525Z', 'null', 'null', 'null', 'null', 'null', 'null', 'null', 'null', 'null', 'null']\n"
     ]
    },
    {
     "name": "stderr",
     "output_type": "stream",
     "text": [
      " 21%|██        | 83786/395029 [00:32<01:45, 2959.62it/s]"
     ]
    },
    {
     "name": "stdout",
     "output_type": "stream",
     "text": [
      "['0fdec866-0d62-3df9-8f1d-131f4176242f', '4ed6b4d9-f510-392c-a673-e691ce1ac1ec', 'US00920728', 'Customer', 'TRADING', 'null', '4710 STREET', 'null', 'ST ANDREWS DR', 'null', 'null', 'BAYTOWN', '77521', 'TX', 'TEXAS', 'US', 'UNITED STATES', 'TEL', 'US', '1', 'null', '2814242229', '2020-06-20T08:27:14.910Z', 'null', 'null', 'null', 'null', 'null', 'null', 'null', 'null', 'null', 'null']\n"
     ]
    },
    {
     "name": "stderr",
     "output_type": "stream",
     "text": [
      " 22%|██▏       | 86627/395029 [00:33<01:37, 3178.29it/s]"
     ]
    },
    {
     "name": "stdout",
     "output_type": "stream",
     "text": [
      "['bcd7fb34-7fed-39b9-aaeb-febd4b7c5346', '2a6447fe-f676-3646-b516-dcb0c84c0f0d', 'RU00824512', 'Customer', 'IMPORT LLC', '2', 'UL. TOMINSKAYA', 'null', 'HOUSE 8, OFFICE 11', 'null', 'null', 'CHELYABINSK', '454053', 'null', 'null', 'RU', 'Russia', 'TEL', 'RU', '7', 'null', '4236665137', '2020-09-25T10:29:39.172Z', 'RU00824512', 'RU36644919', 'RU*F00740502313266', 'RU*F00740502313266', '7451440487', 'null', 'null', 'null', 'null', 'null']\n"
     ]
    },
    {
     "name": "stderr",
     "output_type": "stream",
     "text": [
      " 24%|██▎       | 93598/395029 [00:35<01:36, 3111.38it/s]"
     ]
    },
    {
     "name": "stdout",
     "output_type": "stream",
     "text": [
      "['342334c7-6a92-30c6-b177-5ef89cf55edc', 'a17788fe-d4d9-369c-b4aa-603eae231639', 'US04579448', 'Customer', 'IMPORT EXPORT LLC', '654', 'MOSSWOOD LANE', 'null', 'null', 'SPARTANBURG', 'SPARTANBURG', 'SPARTANBURG', '29301-5352', 'SC', 'SOUTH CAROLINA', 'US', 'UNITED STATES', 'MOB', 'US', '1', 'null', '8645767154', '2023-08-16T13:38:28.185Z', 'null', 'null', 'null', 'null', 'null', 'null', 'null', 'null', 'null', 'null']\n"
     ]
    },
    {
     "name": "stderr",
     "output_type": "stream",
     "text": [
      " 26%|██▌       | 103343/395029 [00:38<01:36, 3017.54it/s]"
     ]
    },
    {
     "name": "stdout",
     "output_type": "stream",
     "text": [
      "['d54f03ed-dc35-3a71-8c8e-79c94d4296ce', 'd1f171eb-d0cb-3710-adb1-ab62d8561ee1', 'SY00139453', 'Customer', 'INTERNATIONAL TRADING COMPANY', 'null', 'ALJAMARK STREET-FREE ZONE', 'null', 'null', 'null', 'null', 'DAMASCUS', 'null', 'null', 'null', 'SY', 'Syria', 'null', 'null', 'null', 'null', 'null', '2018-03-14T07:43:09.418Z', 'null', 'null', 'null', 'null', 'null', 'null', 'null', 'null', 'null', 'null']\n"
     ]
    },
    {
     "name": "stderr",
     "output_type": "stream",
     "text": [
      " 27%|██▋       | 106519/395029 [00:39<01:30, 3192.67it/s]"
     ]
    },
    {
     "name": "stdout",
     "output_type": "stream",
     "text": [
      "['53107b3a-afb7-392b-b973-884aad4f3052', '9659b3aa-605c-32f3-a472-caf61855d245', 'PK00351418', 'Customer', 'INTERNATIONAL TRADERS', '2B', 'BABAR STR', 'null', 'null', 'null', 'null', 'KARACHI', '75300', 'null', 'null', 'PK', 'Pakistan', 'TEL', 'PK', '92', 'null', '3002040159', '2017-09-08T06:28:14.403Z', 'null', 'null', 'null', 'null', 'null', 'null', 'null', 'null', 'null', 'null']\n"
     ]
    },
    {
     "name": "stderr",
     "output_type": "stream",
     "text": [
      " 34%|███▍      | 133963/395029 [00:48<01:22, 3166.15it/s]"
     ]
    },
    {
     "name": "stdout",
     "output_type": "stream",
     "text": [
      "['2228abae-d03b-3a71-960b-460adf8f5a66', 'aaf67290-3c71-32d9-8caf-c2fc77a23335', 'US02417245', 'Customer', 'INTERNATIONAL GENERAL TRADING CORP', '566', 'FASHION AVE', 'null', 'STE 806', 'null', 'null', 'NEW YORK', '10018-1802', 'NY', 'New York', 'US', 'United States', 'TEL', 'US', '1', 'null', '6468709066', '2016-12-16T13:39:41.694Z', 'null', 'null', 'null', 'null', 'null', 'null', 'null', 'null', 'null', 'null']\n"
     ]
    },
    {
     "name": "stderr",
     "output_type": "stream",
     "text": [
      " 39%|███▉      | 153881/395029 [00:55<01:17, 3106.08it/s]"
     ]
    },
    {
     "name": "stdout",
     "output_type": "stream",
     "text": [
      "['65f975e5-b7f1-302e-aafa-ba1155aaa771', '1927e46c-4d32-3492-bd81-bf0bbcc5ca08', 'SY00027476', 'Customer', 'GENERAL TRADING COMPANY', '1', 'BARAMKEH FREE ZONE', 'null', 'null', 'null', 'null', 'LATAKIA', 'null', 'null', 'null', 'SY', 'Syria', 'TEL', 'SY', '963', 'null', '112117003', '2016-06-05T17:20:39.849Z', 'null', 'null', 'null', 'null', 'null', 'null', 'null', 'null', 'null', 'null']\n"
     ]
    },
    {
     "name": "stderr",
     "output_type": "stream",
     "text": [
      " 45%|████▌     | 179736/395029 [01:04<01:12, 2981.51it/s]"
     ]
    },
    {
     "name": "stdout",
     "output_type": "stream",
     "text": [
      "['2e88665e-3393-3a75-9a8d-c75b037d5153', 'c7453190-4d19-3d85-ab73-80b39d3931ca', 'RU00185309', 'Customer', 'TRADING LLC', 'null', 'BOLSHOY PROSPECT', 'null', 'V O INN', 'null', 'null', 'ST PETERSBURG', '199004', 'null', 'null', 'RU', 'Russia', 'null', 'null', 'null', 'null', 'null', '2016-06-05T17:18:57.536Z', 'null', 'null', 'null', 'null', 'null', 'null', 'null', 'null', 'null', 'null']\n"
     ]
    },
    {
     "name": "stderr",
     "output_type": "stream",
     "text": [
      " 48%|████▊     | 189450/395029 [01:07<01:07, 3029.29it/s]"
     ]
    },
    {
     "name": "stdout",
     "output_type": "stream",
     "text": [
      "['f9e4a4a3-1658-3ab6-ba1f-27c316713aad', '4d667c67-9850-3c5b-82e4-b01d275b37c7', 'RU00174732', 'Customer', 'TRADER CO LTD', '77', 'BALTYISKAYA STR', 'null', 'null', 'null', 'null', 'BARNAUL', '656067', 'null', 'null', 'RU', 'Russia', 'TEL', 'RU', '7', 'null', '9039929858', '2016-06-05T17:18:56.267Z', 'null', 'null', 'null', 'null', 'null', 'null', 'null', 'null', 'null', 'null']\n"
     ]
    },
    {
     "name": "stderr",
     "output_type": "stream",
     "text": [
      " 50%|████▉     | 196830/395029 [01:09<01:07, 2953.26it/s]"
     ]
    },
    {
     "name": "stdout",
     "output_type": "stream",
     "text": [
      "['71ff1602-97da-370c-9419-37b98feeb0a5', 'fe488037-03d7-3ca1-a116-e4df8af5fb71', 'EG00477575', 'Customer', 'INTERNATIONAL GROUP', '32', 'SALAH SALEM STREET', 'null', 'null', 'null', 'null', 'PORT SAID EAST', '42111', 'null', 'null', 'EG', 'Egypt', 'TEL', 'EG', '20', 'null', '663216111', '2022-08-01T10:02:06.185Z', 'EG00477575', 'null', 'null', 'null', '325349533', 'null', 'null', 'null', 'null', 'null']\n"
     ]
    },
    {
     "name": "stderr",
     "output_type": "stream",
     "text": [
      " 52%|█████▏    | 206351/395029 [01:12<00:58, 3198.72it/s]"
     ]
    },
    {
     "name": "stdout",
     "output_type": "stream",
     "text": [
      "['ac8e0422-e44d-3c3a-8a15-fc712ccb0ff1', 'ad1a21e7-650f-3bf3-baf3-04b26a8f82b7', 'RU00104957', 'Customer', 'INTERNATIONAL TRADING COMPANY', 'STR.7FL.3', 'POSELENIE MOSKOVSKY DER SALARJEVO', 'null', 'NOVAYA 1-YA STR.7FL.3,RN163', 'null', 'null', 'MOSCOW', '108811', 'null', 'null', 'RU', 'Russia', 'TEL', 'KZ', '7', 'null', '4953386474', '2016-06-05T17:18:49.879Z', 'RU00104957', 'null', 'null', 'null', '5003041660', 'null', 'null', 'null', 'null', 'null']\n"
     ]
    },
    {
     "name": "stderr",
     "output_type": "stream",
     "text": [
      " 54%|█████▎    | 211377/395029 [01:14<01:01, 3000.88it/s]"
     ]
    },
    {
     "name": "stdout",
     "output_type": "stream",
     "text": [
      "['f2ac6a68-5dc4-35cb-ae5b-563ad089033b', '750f8c39-08a0-36ec-b39b-6ee35530d11e', 'HK50017692', 'Customer', '808 LIMITED', '145', 'ON HONG COMMERCIAL BLDG', 'null', '145 HENNESSY ROAD, 18/F, WANCHAI,', 'null', 'null', 'HONG KONG', 'null', 'null', 'null', 'HK', 'Hong Kong China', 'TEL', 'HK', '852', 'null', '85894046', '2020-06-20T08:26:41.814Z', 'null', 'null', 'null', 'null', 'null', 'null', 'null', 'null', 'null', 'null']\n"
     ]
    },
    {
     "name": "stderr",
     "output_type": "stream",
     "text": [
      " 65%|██████▌   | 258488/395029 [01:29<00:42, 3207.93it/s]"
     ]
    },
    {
     "name": "stdout",
     "output_type": "stream",
     "text": [
      "['f91056f7-472e-3bde-b041-0d58319cf365', '7bcb45e7-b7d3-359f-954b-3de546adc1bd', 'SA00088210', 'Customer', 'GENERAL TRADING CO', 'null', 'ALKHOBAR 31952', '319', 'OLAYAN BUILDING KILOMETER 4', 'null', 'null', 'DAMMAM', '31411', 'null', 'null', 'SA', 'SAUDI ARABIA', 'MOB', 'SA', '966', 'null', '507561246', '2016-07-10T19:38:56.355Z', 'SA00088210', 'SA0000027350', 'null', 'null', 'null', 'null', 'null', 'null', 'null', 'null']\n"
     ]
    },
    {
     "name": "stderr",
     "output_type": "stream",
     "text": [
      " 69%|██████▉   | 273398/395029 [01:34<00:38, 3163.99it/s]"
     ]
    },
    {
     "name": "stdout",
     "output_type": "stream",
     "text": [
      "['4db24cbd-2604-39a9-9276-be91eb83587d', '58ccca6a-610a-3190-83a9-725f14200644', 'UG00005848', 'Customer', 'EXPORT TRADING CO LTD', 'null', 'PLOT 26/27 NAMANVE INDUSTRIAL AREA', '33336', 'OPP COCA COLA FACTORY', 'null', 'null', 'KAMPALA', 'null', 'null', 'null', 'UG', 'Uganda', 'TEL', 'UG', '256', 'null', '414254642', '2016-07-10T19:38:20.276Z', 'null', 'null', 'null', 'null', 'null', 'null', 'null', 'null', 'null', 'null']\n"
     ]
    },
    {
     "name": "stderr",
     "output_type": "stream",
     "text": [
      " 71%|███████   | 280217/395029 [01:36<00:37, 3064.05it/s]"
     ]
    },
    {
     "name": "stdout",
     "output_type": "stream",
     "text": [
      "['ae857cba-5af3-39c7-8c6e-36a0709f32a1', '7000dbb6-1468-3726-bace-1062bf6788f8', 'CN01736949', 'Customer', 'TRADING CO LTD', '1', 'INSIDE THE YARD OF ANJIAR TIMBER', 'null', 'INDUSTRI, IMPORT AND EXPOR COOPERAT', 'null', 'null', 'TIANJIN', '300000', 'TJ', 'Tianjin', 'CN', 'China', 'TEL', 'CN', '86', 'null', '58883262', '2016-08-28T20:01:55.848Z', 'null', 'null', 'null', 'null', 'null', 'null', 'null', 'null', 'null', 'null']\n"
     ]
    },
    {
     "name": "stderr",
     "output_type": "stream",
     "text": [
      " 73%|███████▎  | 286827/395029 [01:39<00:34, 3139.79it/s]"
     ]
    },
    {
     "name": "stdout",
     "output_type": "stream",
     "text": [
      "['56b5c7de-8b6d-3907-bbf5-903c5c97dec7', 'a8152c78-f34d-386f-93f6-bf6ac87d0215', 'AE50013080', 'Customer', 'EXPORT TRADING GROUP', 'null', 'DIFC DUBAI', '482076', 'DIFC DUBAI', 'null', 'null', 'DUBAI', 'null', 'null', 'null', 'AE', 'United Arab Emirates', 'TEL', 'AE', '971', 'null', '43864551', '2020-06-20T08:25:37.744Z', 'null', 'null', 'null', 'null', 'null', 'null', 'null', 'null', 'null', 'null']\n"
     ]
    },
    {
     "name": "stderr",
     "output_type": "stream",
     "text": [
      " 76%|███████▌  | 299159/395029 [01:43<00:30, 3171.72it/s]"
     ]
    },
    {
     "name": "stdout",
     "output_type": "stream",
     "text": [
      "['a3fc370f-0000-30f9-8471-c8e547194125', 'caa88520-8683-3fc3-8831-c63b52f27725', 'CN01091530', 'Customer', 'INTERNATIONAL TRADING CO LTD', '118', 'DALIANG ST', 'null', 'RM 802 CENTURY SQUARE BLDG B', 'null', 'null', 'NINGBO', '315099', 'ZJ', 'Zhejiang', 'CN', 'China', 'TEL', 'CN', '86', 'null', '57487176200', '2016-08-28T20:01:28.602Z', 'null', 'null', 'null', 'null', 'null', 'null', 'null', 'null', 'null', 'null']\n"
     ]
    },
    {
     "name": "stderr",
     "output_type": "stream",
     "text": [
      " 89%|████████▉ | 352231/395029 [02:00<00:15, 2810.03it/s]"
     ]
    },
    {
     "name": "stdout",
     "output_type": "stream",
     "text": [
      "['ee8ef85e-0a4f-3add-b10e-b03388c27ca0', 'a7c580dd-c200-3e53-8a76-2134dab5302e', 'MW00114697', 'Customer', 'EXPORT TRADING CO. LTD', 'null', 'TEMPLE STREET', '51722', 'BEHIND OLD SECURICOR OFFICE', 'null', 'null', 'LIMBE', 'null', 'null', 'null', 'MW', 'MALAWI', 'MOB', 'MW', '265', 'null', '884919183', '2023-05-30T09:26:30.076Z', 'null', 'null', 'null', 'null', 'null', 'null', 'null', 'null', 'null', 'null']\n"
     ]
    },
    {
     "name": "stderr",
     "output_type": "stream",
     "text": [
      " 89%|████████▉ | 353091/395029 [02:01<00:17, 2416.22it/s]"
     ]
    },
    {
     "name": "stdout",
     "output_type": "stream",
     "text": [
      "['6b266ac5-f9b4-3008-833c-4cda137a33b8', 'd804d709-19e9-3231-adb4-9ef98fcc7f64', 'QA50002951', 'Customer', 'GROUP COMPANY', 'null', 'GATE NO. A2, 1ST FLOOR', '7303', 'RETAJ BUILDING, SALWA ROAD', 'null', 'null', 'DOHA', 'null', 'null', 'null', 'QA', 'Qatar', 'TEL', 'QA', '974', 'null', '44681144', '2020-06-20T08:27:05.955Z', 'null', 'null', 'null', 'null', 'null', 'null', 'null', 'null', 'null', 'null']\n"
     ]
    },
    {
     "name": "stderr",
     "output_type": "stream",
     "text": [
      " 93%|█████████▎| 365623/395029 [02:05<00:10, 2922.41it/s]"
     ]
    },
    {
     "name": "stdout",
     "output_type": "stream",
     "text": [
      "['0aad293c-7b98-32df-9ba6-03b8097c638c', 'd2216d5b-f69d-31f1-afe6-aecbf4c6020e', 'EG00133689', 'Customer', 'INTERNATIONAL TRADING COMPANY', '47', 'MUSSADAK STREET', 'null', 'DOKKI', 'null', 'null', 'CAIRO', '11511', 'null', 'null', 'EG', 'Egypt', 'TEL', 'EG', '20', 'null', '34288875', '2016-06-05T17:19:06.679Z', 'null', 'null', 'null', 'null', 'null', 'null', 'null', 'null', 'null', 'null']\n"
     ]
    },
    {
     "name": "stderr",
     "output_type": "stream",
     "text": [
      " 96%|█████████▌| 378502/395029 [02:09<00:05, 2886.65it/s]"
     ]
    },
    {
     "name": "stdout",
     "output_type": "stream",
     "text": [
      "['f617581c-4599-3a89-86ae-b9a46f63c574', 'cf6e6255-ad45-3749-ac80-731f0b605a8c', 'KW003026', 'Customer', 'GENERAL TRADING CO', 'null', 'null', '1079', 'null', 'null', 'null', 'SAFAT', '13011', 'null', 'null', 'KW', 'Kuwait', 'TEL', 'KW', '965', 'null', '22425101', '2016-07-10T19:38:47.472Z', 'KW003026', 'KW0000282352', 'null', 'null', 'null', 'null', 'null', 'null', 'null', 'null']\n"
     ]
    },
    {
     "name": "stderr",
     "output_type": "stream",
     "text": [
      "100%|██████████| 395029/395029 [02:15<00:00, 2922.31it/s]\n"
     ]
    }
   ],
   "source": [
    "from tqdm import tqdm\n",
    "success = 0\n",
    "failure = 0\n",
    "not_applicable = 0\n",
    "result = {}\n",
    "false_positives = {}\n",
    "qualified_as_match_threshold = 0\n",
    "correctly_qualified_as_match_threshold = 0\n",
    "count_entries_name_matching =0\n",
    "threshold = 90\n",
    "for arr in tqdm(test_corpus):\n",
    "    legal_cluster_id = arr[1].lower()\n",
    "    matches = {}\n",
    "    #tax matching\n",
    "    tax_match = match_tax(arr, unique_tax_numbers)\n",
    "    if tax_match:\n",
    "        success += 1\n",
    "        matches[1] = tax_match\n",
    "        result[str(arr)] = matches\n",
    "        continue\n",
    "    #bvd matching\n",
    "    bvd_match = match_bvd(arr, unique_bvd_numbers)\n",
    "    if bvd_match:\n",
    "        success += 1\n",
    "        matches[1] = bvd_match\n",
    "        result[str(arr)] = matches\n",
    "        continue\n",
    "    # print(\"Name matching\")\n",
    "    company_name = arr[4]\n",
    "    count_entries_name_matching += 1\n",
    "    country_code = arr[15]\n",
    "    annoy_index = index_name_vector_clustered_by_country[country_code]\n",
    "    corpus = country_wise_corpus[country_code]\n",
    "    best_match_name, best_match_score, best_match_idx = find_best_match(company_name, country_code, annoy_index, embedding_dim=128, num_candidates=15)\n",
    "    best_matched_entry = None\n",
    "    if best_match_idx == None:\n",
    "        not_applicable +=1\n",
    "        print(arr)\n",
    "    if best_match_idx and best_match_score > threshold:\n",
    "        # best_matched_entry = comparison_corpus[best_match_idx]\n",
    "        best_matched_entry = corpus[best_match_idx]\n",
    "        # print(best_match_score)\n",
    "        qualified_as_match_threshold +=1\n",
    "        if legal_cluster_id == best_matched_entry[1]:\n",
    "            success +=1\n",
    "            correctly_qualified_as_match_threshold +=1\n",
    "        else:\n",
    "            false_positives[str(arr)] = best_matched_entry\n",
    "            failure +=1\n",
    "    else:\n",
    "        failure +=1\n",
    "    result[str(arr)] = best_matched_entry\n",
    "    # print(idx+1, success, failure, success + failure)\n"
   ]
  },
  {
   "cell_type": "code",
   "execution_count": 43,
   "metadata": {},
   "outputs": [
    {
     "name": "stdout",
     "output_type": "stream",
     "text": [
      "307459 87570\n",
      "183366 170774\n"
     ]
    }
   ],
   "source": [
    "print(success, failure)\n",
    "print(qualified_as_match_threshold, correctly_qualified_as_match_threshold)"
   ]
  },
  {
   "cell_type": "markdown",
   "metadata": {},
   "source": [
    "319480 75549\n",
    "207263 182795\n",
    "0.8087507499449408\n",
    "\n",
    "0.8819470913766567\n",
    "24468\n",
    "\n"
   ]
  },
  {
   "cell_type": "markdown",
   "metadata": {},
   "source": [
    "311033 83997\n",
    "205553 177854\n",
    "0.7873655165430473\n"
   ]
  },
  {
   "cell_type": "code",
   "execution_count": 41,
   "metadata": {},
   "outputs": [
    {
     "data": {
      "text/plain": [
       "0.778320072703523"
      ]
     },
     "execution_count": 41,
     "metadata": {},
     "output_type": "execute_result"
    }
   ],
   "source": [
    "success/(success + failure)"
   ]
  },
  {
   "cell_type": "code",
   "execution_count": 42,
   "metadata": {},
   "outputs": [
    {
     "data": {
      "text/plain": [
       "258344"
      ]
     },
     "execution_count": 42,
     "metadata": {},
     "output_type": "execute_result"
    }
   ],
   "source": [
    "count_entries_name_matching"
   ]
  },
  {
   "cell_type": "code",
   "execution_count": 31,
   "metadata": {},
   "outputs": [
    {
     "name": "stdout",
     "output_type": "stream",
     "text": [
      "0.9228976011717418\n"
     ]
    },
    {
     "data": {
      "text/plain": [
       "13792"
      ]
     },
     "execution_count": 31,
     "metadata": {},
     "output_type": "execute_result"
    }
   ],
   "source": [
    "precision = correctly_qualified_as_match_threshold/qualified_as_match_threshold\n",
    "print(precision)\n",
    "qualified_as_match_threshold - correctly_qualified_as_match_threshold"
   ]
  },
  {
   "cell_type": "code",
   "execution_count": 32,
   "metadata": {},
   "outputs": [],
   "source": [
    "import os\n",
    "save_result_filename = \"complete_data_\" + \"false_positives_\" + str(embedding_dim) + \"_\" + str(function_selection['ratio']) + \"_\" + str(function_selection['partial_ratio']) + \"_\" + str(function_selection['token_sort_ratio']) + \"_\" + str(function_selection['token_set_ratio']) + \"_\" + str(function_selection['partial_token_sort_ratio']) + \"_\" + str(function_selection['partial_token_set_ratio']) + \"_threshold_\" + str(threshold) + \".json\"\n",
    "# save_result_filename = \"result_name_matching_threshold_85.json\"\n",
    "save_folder_path = \"/Users/k.abhishek/Documents/customer_clusters/experiments/approximate_match_approach/results\"\n",
    "save_result_file_path = os.path.join(save_folder_path, save_result_filename)\n",
    "\n",
    "def save_result(result, save_result_file_path):\n",
    "    import json\n",
    "    with open(save_result_file_path, 'w') as f:\n",
    "        json.dump(result, f)\n",
    "\n",
    "save_result(false_positives, save_result_file_path)"
   ]
  },
  {
   "cell_type": "code",
   "execution_count": null,
   "metadata": {},
   "outputs": [],
   "source": []
  },
  {
   "cell_type": "code",
   "execution_count": null,
   "metadata": {},
   "outputs": [],
   "source": []
  }
 ],
 "metadata": {
  "kernelspec": {
   "display_name": "Python 3",
   "language": "python",
   "name": "python3"
  },
  "language_info": {
   "codemirror_mode": {
    "name": "ipython",
    "version": 3
   },
   "file_extension": ".py",
   "mimetype": "text/x-python",
   "name": "python",
   "nbconvert_exporter": "python",
   "pygments_lexer": "ipython3",
   "version": "3.9.19"
  }
 },
 "nbformat": 4,
 "nbformat_minor": 2
}
